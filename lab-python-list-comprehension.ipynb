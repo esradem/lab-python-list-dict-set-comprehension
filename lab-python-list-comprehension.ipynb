{
 "cells": [
  {
   "cell_type": "markdown",
   "id": "25d7736c-ba17-4aff-b6bb-66eba20fbf4e",
   "metadata": {},
   "source": [
    "# Lab | List, Dict and Set Comprehension"
   ]
  },
  {
   "cell_type": "markdown",
   "id": "7dd3cbde-675a-4b81-92c3-f728846dbe06",
   "metadata": {},
   "source": [
    "## Exercise: Managing Customer Orders Optimized with Comprehension"
   ]
  },
  {
   "cell_type": "markdown",
   "id": "5d500160-2fb7-4777-b5e4-09d45ebaf328",
   "metadata": {},
   "source": [
    "In the previous exercise, you developed a program to manage customer orders and inventory. Now, let's take it a step further and incorporate comprehension into your code.\n",
    "\n",
    "Follow the steps below to complete the exercise:\n",
    "\n",
    "1. Review your code from the previous exercise and identify areas where you can apply comprehension to simplify and streamline your code. \n",
    "\n",
    "    - *Hint: Apply it to initialize inventory, updating the inventory and printing the updated inventory.*\n",
    "    \n",
    "    - For example, in initializing the inventory, we could have:\n",
    "    \n",
    "        ```python\n",
    "        def initialize_inventory(products):\n",
    "            inventory = {product: int(input(f\"Enter the quantity of {product}s available: \")) for product in products}\n",
    "            return inventory\n",
    "\n",
    "        ```\n",
    "<br>\n",
    "    \n",
    "    \n",
    "2. Modify the function get_customer_orders so it prompts the user to enter the number of customer orders and gathers the product names using a loop and user input. Use comprehension.\n",
    "\n",
    "3. Add a new function to calculate the total price of the customer order. For each product in customer_orders, prompt the user to enter the price of that product. Use comprehension to calculate the total price. Note: assume that the user can only have 1 unit of each product.\n",
    "\n",
    "4. Modify the update_inventory function to remove the product from the inventory if its quantity becomes zero after fulfilling the customer orders. Use comprehension to filter out the products with a quantity of zero from the inventory.\n",
    "\n",
    "5. Print the total price of the customer order.\n",
    "\n",
    "Your code should produce output similar to the following:\n",
    "\n",
    "```python\n",
    "Enter the quantity of t-shirts available:  5\n",
    "Enter the quantity of mugs available:  4\n",
    "Enter the quantity of hats available:  3\n",
    "Enter the quantity of books available:  2\n",
    "Enter the quantity of keychains available:  1\n",
    "Enter the number of customer orders:  2\n",
    "Enter the name of a product that a customer wants to order:  hat\n",
    "Enter the name of a product that a customer wants to order:  keychain\n",
    "\n",
    "Order Statistics:\n",
    "Total Products Ordered: 2\n",
    "Percentage of Unique Products Ordered: 40.0\n",
    "\n",
    "Updated Inventory:\n",
    "t-shirt: 5\n",
    "mug: 4\n",
    "hat: 2\n",
    "book: 2\n",
    "Enter the price of keychain:  5\n",
    "Enter the price of hat:  10\n",
    "Total Price: 15.0\n",
    "\n",
    "```\n"
   ]
  },
  {
   "cell_type": "code",
   "execution_count": null,
   "id": "82bf889a-d91d-4537-bb04-514c96855f30",
   "metadata": {},
   "outputs": [],
   "source": [
    "##products = [ \"t-shirt\", \"mug\", \"hat\", \"book\", \"keychain\"]\n",
    "# inventory = {}\n",
    "# for product in products:\n",
    "#     quantity = int(input(\"quantity of each product available in the inventory\"))\n",
    "#     inventory[product]=quantity\n",
    "#     print (inventory)"
   ]
  },
  {
   "cell_type": "code",
   "execution_count": 374,
   "id": "cb228c94-0ce7-48aa-9bbd-fc826e156125",
   "metadata": {},
   "outputs": [
    {
     "name": "stdin",
     "output_type": "stream",
     "text": [
      "Enter the quantity of t-shirt available: 5\n",
      "Enter the quantity of mug available: 4\n",
      "Enter the quantity of hat available: 3\n",
      "Enter the quantity of book available: 2\n",
      "Enter the quantity of keychain available: 1\n"
     ]
    },
    {
     "data": {
      "text/plain": [
       "{'t-shirt': 5, 'mug': 4, 'hat': 3, 'book': 2, 'keychain': 1}"
      ]
     },
     "execution_count": 374,
     "metadata": {},
     "output_type": "execute_result"
    }
   ],
   "source": [
    "##### initialize inventory\n",
    "inventory={product:int(input(f\"Enter the quantity of {product} available:\")) for product in products}\n",
    "inventory"
   ]
  },
  {
   "cell_type": "code",
   "execution_count": 376,
   "id": "44166456-4119-4dbe-a8bb-ac14cd5342e5",
   "metadata": {},
   "outputs": [
    {
     "name": "stdin",
     "output_type": "stream",
     "text": [
      "Enter the number of customer orders:   2\n",
      "Enter the name of a product that a customer wants to order:  hat\n",
      "Enter the name of a product that a customer wants to order:  keychain\n"
     ]
    },
    {
     "data": {
      "text/plain": [
       "{'hat', 'keychain'}"
      ]
     },
     "execution_count": 376,
     "metadata": {},
     "output_type": "execute_result"
    }
   ],
   "source": [
    "order_count=input(\"Enter the number of customer orders:  \")\n",
    "\n",
    "customer_orders = {order for order in [input(\"Enter the name of a product that a customer wants to order: \") for order in range(int(order_count))] if order in products }\n",
    "customer_orders"
   ]
  },
  {
   "cell_type": "code",
   "execution_count": 378,
   "id": "050759d8-660e-46bc-af45-d73b7fdb6b1b",
   "metadata": {},
   "outputs": [
    {
     "data": {
      "text/plain": [
       "{'t-shirt': 5, 'mug': 4, 'hat': 2, 'book': 2, 'keychain': 0}"
      ]
     },
     "execution_count": 378,
     "metadata": {},
     "output_type": "execute_result"
    }
   ],
   "source": [
    "# def update_inventory(customer_orders, inventory):\n",
    "#     for product in customer_orders:\n",
    "#         inventory[product]-=1\n",
    "#     return inventory\n",
    "# update_inventory(customer_orders, inventory)\n",
    "# print(inventory)\n",
    "#newlist = [expression for item in iterable if condition == True]\n",
    "#newlist = [x if x != \"banana\" else \"orange\" for x in fruits]\n",
    "#\"Return the item if it is not banana, if it is banana return orange\".\n",
    "\n",
    "\n",
    "update_inventory = {product:(inventory[product]-1) if product in customer_orders else  inventory[product] for product in inventory}\n",
    "update_inventory"
   ]
  },
  {
   "cell_type": "code",
   "execution_count": null,
   "id": "402baeb8-4652-4ce2-bab1-4d9f49440fa9",
   "metadata": {},
   "outputs": [],
   "source": [
    "#2 Modify the function get_customer_orders so it prompts the user to enter the number of customer orders\n",
    "# and gathers the product names using a loop and user input. Use comprehension.\n",
    "# def get_customer_orders():\n",
    "#     order_quantity={}\n",
    "#     for product in customer_orders:\n",
    "#         num_orders = int(input( f\"Enter the quantity of {product} available\"))\n",
    "#         order_quantity[product] = num_orders\n",
    "#     return order_quantity\n",
    "# get_customer_orders()"
   ]
  },
  {
   "cell_type": "code",
   "execution_count": 380,
   "id": "2b146c74-7cf6-499f-99a7-8891b68823da",
   "metadata": {},
   "outputs": [
    {
     "name": "stdin",
     "output_type": "stream",
     "text": [
      "Enter the quantity of keychain available 1\n",
      "Enter the quantity of hat available 1\n"
     ]
    },
    {
     "data": {
      "text/plain": [
       "{'keychain': 1, 'hat': 1}"
      ]
     },
     "execution_count": 380,
     "metadata": {},
     "output_type": "execute_result"
    }
   ],
   "source": [
    "order_quantity={product: int(input(f\"Enter the quantity of {product} available\"))for product in customer_orders }\n",
    "order_quantity"
   ]
  },
  {
   "cell_type": "code",
   "execution_count": 386,
   "id": "b1c02101-2b9a-48af-8189-d24668426827",
   "metadata": {},
   "outputs": [
    {
     "name": "stdin",
     "output_type": "stream",
     "text": [
      "Enter the price of keychain:  5\n",
      "Enter the price of hat:  10\n"
     ]
    },
    {
     "data": {
      "text/plain": [
       "15.0"
      ]
     },
     "execution_count": 386,
     "metadata": {},
     "output_type": "execute_result"
    }
   ],
   "source": [
    "\n",
    "#3. Add a new function to calculate the total price of the customer order.\n",
    "#For each product in customer_orders, prompt the user to enter the price of that product. Use comprehension to calculate the total price. Note: assume that the user can only have 1 unit of each product.\n",
    "# def total_price(customer_orders):\n",
    "#     total = 0\n",
    "#     for product in customer_orders:\n",
    "#         price = float(input(f\"Enter the price for {product}: \"))\n",
    "#         total += price\n",
    "#     return total\n",
    "# print(total_price(customer_orders))\n",
    "\n",
    "#totalprice comprehension\n",
    "total_price=sum(float(input(f\"Enter the price of {product}: \")) for product in customer_orders)\n",
    "total_price"
   ]
  },
  {
   "cell_type": "code",
   "execution_count": 384,
   "id": "5fb99755-839e-4567-85cf-642973fd3f66",
   "metadata": {},
   "outputs": [
    {
     "data": {
      "text/plain": [
       "{'t-shirt': 5, 'mug': 4, 'hat': 2, 'book': 2}"
      ]
     },
     "execution_count": 384,
     "metadata": {},
     "output_type": "execute_result"
    }
   ],
   "source": [
    "#4. Modify the update_inventory function to remove the product from the inventory if its quantity becomes zero after fulfilling the customer orders. Use comprehension to filter out the products with a quantity of zero from the inventory.\n",
    "\n",
    "# Filter out items with quantity > 0 using dict comprehension\n",
    "\n",
    "update_inventory = {product:(inventory[product]-1) if product in customer_orders else  inventory[product] for product in inventory if not (product in customer_orders and inventory[product] - 1 == 0)}\n",
    "\n",
    "update_inventory\n"
   ]
  },
  {
   "cell_type": "code",
   "execution_count": null,
   "id": "8f02013d-5e0f-42f6-ab06-eba65656ad90",
   "metadata": {},
   "outputs": [],
   "source": []
  }
 ],
 "metadata": {
  "kernelspec": {
   "display_name": "Python [conda env:base] *",
   "language": "python",
   "name": "conda-base-py"
  },
  "language_info": {
   "codemirror_mode": {
    "name": "ipython",
    "version": 3
   },
   "file_extension": ".py",
   "mimetype": "text/x-python",
   "name": "python",
   "nbconvert_exporter": "python",
   "pygments_lexer": "ipython3",
   "version": "3.12.7"
  }
 },
 "nbformat": 4,
 "nbformat_minor": 5
}
